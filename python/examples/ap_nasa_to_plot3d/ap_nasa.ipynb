{
 "cells": [
  {
   "cell_type": "markdown",
   "metadata": {},
   "source": [
    "# Converting AP NASA to Plot3D\n",
    "The following tutorial demonstrates how to convert an AP NASA H-Grid file into a plot3d multi-block geometry that can be read by paraview. \n",
    "\n",
    "\n",
    "\n",
    "Lets download the sample .ap file"
   ]
  },
  {
   "cell_type": "code",
   "execution_count": null,
   "metadata": {},
   "outputs": [],
   "source": [
    "!wget "
   ]
  },
  {
   "cell_type": "markdown",
   "metadata": {},
   "source": [
    "## Install dependancies\n",
    "Run the code below to install plot3d "
   ]
  },
  {
   "cell_type": "code",
   "execution_count": null,
   "metadata": {},
   "outputs": [],
   "source": [
    "!pip install plot3d"
   ]
  },
  {
   "cell_type": "markdown",
   "metadata": {},
   "source": [
    "## Exporting to Plot3D \n",
    "The code below reads in the ap nasa file and exports the block along with the number of blades. The geometry of the AP NASA File is in X,R,Theta. The reading part automatically converts it to x,y,z"
   ]
  },
  {
   "cell_type": "code",
   "execution_count": null,
   "metadata": {},
   "outputs": [],
   "source": [
    "from plot3d import Block, read_ap_nasa, write_plot3D\n",
    "block,nblades = read_ap_nasa('m01.ap') # Reading\n",
    "\n",
    "write_plot3D('test-ASCII.xyz', [block],binary=False) # Lets write.\n",
    "# Note: By default this code writes to a multi-block plot3D file"
   ]
  },
  {
   "cell_type": "code",
   "execution_count": null,
   "metadata": {},
   "outputs": [],
   "source": []
  }
 ],
 "metadata": {
  "language_info": {
   "name": "python"
  },
  "orig_nbformat": 4
 },
 "nbformat": 4,
 "nbformat_minor": 2
}
